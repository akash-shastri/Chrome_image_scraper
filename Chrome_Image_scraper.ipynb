{
 "cells": [
  {
   "cell_type": "markdown",
   "metadata": {},
   "source": [
    "# Web Scraper to make Image datasets\n",
    "\n",
    "This is a small script to scrape images from google searching for a particular term, and have images of each term in a separate folder. This is extremely useful if you want to do deep learning with images, and need images from google to make a dataset.\n",
    "\n",
    "Idea and starter Credits : https://towardsdatascience.com/image-scraping-with-python-a96feda8af2d\n",
    "\n"
   ]
  },
  {
   "cell_type": "markdown",
   "metadata": {},
   "source": [
    "## Things to do before this script works\n",
    "1. Install selenium (with conda you can use \"pip install selenium\") \n",
    "2. Download google chrome, if downloaded find chrome version. \n",
    "3. from https://chromedriver.chromium.org/downloads, download the correct chromedriver version. (you can use other browsers too, but have to improvise)\n",
    "\n"
   ]
  },
  {
   "cell_type": "markdown",
   "metadata": {},
   "source": [
    "### Variables to adjust\n",
    "\n",
    "1. set DRIVER_PATH to the path of chromedriver\n",
    "2. set search_term to an array of strings for which you want images\n",
    "3. set number_images to the number of images you want for each class\n",
    "4. set target_path to the path where you want images dataset created."
   ]
  },
  {
   "cell_type": "code",
   "execution_count": 33,
   "metadata": {},
   "outputs": [],
   "source": [
    "DRIVER_PATH = \"D:\\Deep Learning\\Scraping\\chromedriver.exe\"\n",
    "search_term = [\"Dogs\",\"cats\"]\n",
    "number_images = 15\n",
    "target_path = './images'"
   ]
  },
  {
   "cell_type": "code",
   "execution_count": 34,
   "metadata": {},
   "outputs": [],
   "source": [
    "from selenium import webdriver"
   ]
  },
  {
   "cell_type": "code",
   "execution_count": 35,
   "metadata": {},
   "outputs": [],
   "source": [
    "def fetch_image_urls(query:str, max_links_to_fetch:int, wd:webdriver, sleep_between_interactions:int=1):\n",
    "    def scroll_to_end(wd):\n",
    "        wd.execute_script(\"window.scrollTo(0, document.body.scrollHeight);\")\n",
    "        time.sleep(sleep_between_interactions)    \n",
    "    \n",
    "    # build the google query\n",
    "    search_url = \"https://www.google.com/search?safe=off&site=&tbm=isch&source=hp&q={q}&oq={q}&gs_l=img\"\n",
    "\n",
    "    # load the page\n",
    "    wd.get(search_url.format(q=query))\n",
    "\n",
    "    image_urls = set()\n",
    "    image_count = 0\n",
    "    results_start = 0\n",
    "    while image_count < max_links_to_fetch:\n",
    "        scroll_to_end(wd)\n",
    "\n",
    "        # get all image thumbnail results\n",
    "        thumbnail_results = wd.find_elements_by_css_selector(\"img.Q4LuWd\")\n",
    "        number_results = len(thumbnail_results)\n",
    "        \n",
    "        print(f\"Found: {number_results} search results. Extracting links from {results_start}:{number_results}\")\n",
    "        \n",
    "        for img in thumbnail_results[results_start:number_results]:\n",
    "            # try to click every thumbnail such that we can get the real image behind it\n",
    "            try:\n",
    "                img.click()\n",
    "                time.sleep(sleep_between_interactions)\n",
    "            except Exception:\n",
    "                continue\n",
    "\n",
    "            # extract image urls    \n",
    "            actual_images = wd.find_elements_by_css_selector('img.n3VNCb')\n",
    "            for actual_image in actual_images:\n",
    "                if actual_image.get_attribute('src') and 'http' in actual_image.get_attribute('src'):\n",
    "                    image_urls.add(actual_image.get_attribute('src'))\n",
    "\n",
    "            image_count = len(image_urls)\n",
    "\n",
    "            if len(image_urls) >= max_links_to_fetch:\n",
    "                print(f\"Found: {len(image_urls)} image links, done!\")\n",
    "                break\n",
    "        else:\n",
    "            print(\"Found:\", len(image_urls), \"image links, looking for more ...\")\n",
    "            time.sleep(30)\n",
    "            return\n",
    "            load_more_button = wd.find_element_by_css_selector(\".mye4qd\")\n",
    "            if load_more_button:\n",
    "                wd.execute_script(\"document.querySelector('.mye4qd').click();\")\n",
    "\n",
    "        # move the result startpoint further down\n",
    "        results_start = len(thumbnail_results)\n",
    "\n",
    "    return image_urls"
   ]
  },
  {
   "cell_type": "code",
   "execution_count": 36,
   "metadata": {},
   "outputs": [],
   "source": [
    "\n",
    "def persist_image(folder_path:str,url:str):\n",
    "    try:\n",
    "        image_content = requests.get(url).content\n",
    "\n",
    "    except Exception as e:\n",
    "        print(f\"ERROR - Could not download {url} - {e}\")\n",
    "        \n",
    "\n",
    "    try:\n",
    "        image_file = io.BytesIO(image_content)\n",
    "        image = Image.open(image_file).convert('RGB')\n",
    "        file_path = os.path.join(folder_path,hashlib.sha1(image_content).hexdigest()[:10] + '.jpg')\n",
    "        with open(file_path, 'wb') as f:\n",
    "            image.save(f, \"JPEG\", quality=85)\n",
    "        print(f\"SUCCESS - saved {url} - as {file_path}\")\n",
    "    except Exception as e:\n",
    "        print(f\"ERROR - Could not save {url} - {e}\")\n",
    "    "
   ]
  },
  {
   "cell_type": "code",
   "execution_count": 37,
   "metadata": {},
   "outputs": [],
   "source": [
    "\n",
    "def search_and_download(search_term:str,driver_path:str,target_path='./images',number_images=5):\n",
    "    target_folder = os.path.join(target_path,'_'.join(search_term.lower().split(' ')))\n",
    "\n",
    "    if not os.path.exists(target_folder):\n",
    "        os.makedirs(target_folder)\n",
    "\n",
    "    with webdriver.Chrome(executable_path=driver_path) as wd:\n",
    "        res = fetch_image_urls(search_term, number_images, wd=wd, sleep_between_interactions=0.5)\n",
    "        \n",
    "    for elem in res:\n",
    "        persist_image(target_folder,elem)"
   ]
  },
  {
   "cell_type": "code",
   "execution_count": 38,
   "metadata": {},
   "outputs": [
    {
     "name": "stdout",
     "output_type": "stream",
     "text": [
      "Found: 100 search results. Extracting links from 0:100\n",
      "Found: 15 image links, done!\n",
      "SUCCESS - saved https://d17fnq9dkz9hgj.cloudfront.net/breed-uploads/2018/09/dog-landing-hero-lg.jpg?bust=1536935129&width=1080 - as ./images\\dogs\\6be2081479.jpg\n",
      "SUCCESS - saved https://img.webmd.com/dtmcms/live/webmd/consumer_assets/site_images/article_thumbnails/other/dog_cool_summer_slideshow/1800x1200_dog_cool_summer_other.jpg - as ./images\\dogs\\37f0960b6e.jpg\n",
      "SUCCESS - saved https://upload.wikimedia.org/wikipedia/commons/d/d9/Collage_of_Nine_Dogs.jpg - as ./images\\dogs\\43502d5208.jpg\n",
      "SUCCESS - saved https://cdn.shopify.com/s/files/1/2327/5701/articles/Omega-3-For-Dogs_1200x.jpg?v=1561351694 - as ./images\\dogs\\a56730cba0.jpg\n",
      "SUCCESS - saved https://media.nature.com/lw800/magazine-assets/d41586-020-01430-5/d41586-020-01430-5_17977552.jpg - as ./images\\dogs\\36c2df0788.jpg\n",
      "SUCCESS - saved https://www.familyeducation.com/sites/default/files/2019-02/best-dog-breeds-for-kids_feature.jpg - as ./images\\dogs\\e727208767.jpg\n",
      "SUCCESS - saved https://www.sciencemag.org/sites/default/files/styles/article_main_large/public/dogs_1280p_0.jpg?itok=cnRk0HYq - as ./images\\dogs\\4ddebbca9a.jpg\n",
      "SUCCESS - saved https://i.guim.co.uk/img/media/fe1e34da640c5c56ed16f76ce6f994fa9343d09d/0_174_3408_2046/master/3408.jpg?width=300&quality=45&auto=format&fit=max&dpr=2&s=20c1a08d26568b0d2623dfc8a59c0e44 - as ./images\\dogs\\4de04fe641.jpg\n",
      "SUCCESS - saved https://arc-anglerfish-washpost-prod-washpost.s3.amazonaws.com/public/HB4AT3D3IMI6TMPTWIZ74WAR54.jpg - as ./images\\dogs\\912f4857d9.jpg\n",
      "SUCCESS - saved https://i.ytimg.com/vi/MPV2METPeJU/maxresdefault.jpg - as ./images\\dogs\\b61b601eea.jpg\n",
      "SUCCESS - saved https://hips.hearstapps.com/hmg-prod.s3.amazonaws.com/images/dog-puppy-on-garden-royalty-free-image-1586966191.jpg?crop=0.752xw:1.00xh;0.175xw,0&resize=640:* - as ./images\\dogs\\4d9c90c934.jpg\n",
      "SUCCESS - saved https://post.medicalnewstoday.com/wp-content/uploads/sites/3/2020/02/322868_1100-800x825.jpg - as ./images\\dogs\\9efd18dd6c.jpg\n",
      "SUCCESS - saved https://www.guidedogs.org/wp-content/uploads/2019/11/website-donate-mobile.jpg - as ./images\\dogs\\1450cc1d98.jpg\n",
      "SUCCESS - saved https://s3.amazonaws.com/cdn-origin-etr.akc.org/wp-content/uploads/2017/11/17140825/Swedish-Vallhund-head-portrait-outdoors.jpg - as ./images\\dogs\\8caac8a42a.jpg\n",
      "SUCCESS - saved https://hips.hearstapps.com/hmg-prod.s3.amazonaws.com/images/gettyimages-1094874726.png?crop=0.542xw:0.814xh;0.0472xw,0.127xh&resize=640:* - as ./images\\dogs\\923f7d759e.jpg\n",
      "Found: 100 search results. Extracting links from 0:100\n",
      "Found: 15 image links, done!\n",
      "SUCCESS - saved https://i.guim.co.uk/img/media/7a633730f5f90db3c12f6efc954a2d5b475c3d4a/0_138_5544_3327/master/5544.jpg?width=1200&height=1200&quality=85&auto=format&fit=crop&s=27c09d27ccbd139fd0f7d1cef8f7d41d - as ./images\\cats\\e22c44b40f.jpg\n",
      "SUCCESS - saved https://www.humanesociety.org/sites/default/files/styles/1240x698/public/2018/08/kitten-440379.jpg?h=c8d00152&itok=1fdekAh2 - as ./images\\cats\\77554c65d8.jpg\n",
      "SUCCESS - saved https://static.nationalgeographic.co.uk/files/styles/image_3200/public/01-cat-names-nationalgeographic_1525054.jpg?w=1600&h=900 - as ./images\\cats\\f88c234a07.jpg\n",
      "SUCCESS - saved https://i.insider.com/5ee3a6953ad86122eb02f81b?width=1100&format=jpeg&auto=webp - as ./images\\cats\\52a8c23378.jpg\n",
      "SUCCESS - saved https://cdn.vox-cdn.com/thumbor/p1ZH5-DS33Nap7AnE2gA7JI4nTQ=/1400x788/filters:format(jpeg)/cdn.vox-cdn.com/uploads/chorus_asset/file/19539772/cats4.jpg - as ./images\\cats\\63d005d643.jpg\n",
      "SUCCESS - saved https://img.webmd.com/dtmcms/live/webmd/consumer_assets/site_images/article_thumbnails/reference_guide/outdoor_cat_risks_ref_guide/1800x1200_outdoor_cat_risks_ref_guide.jpg - as ./images\\cats\\23e1250c34.jpg\n",
      "SUCCESS - saved https://icatcare.org/app/uploads/2018/06/Layer-1704-1920x840.jpg - as ./images\\cats\\f2bdfd713b.jpg\n",
      "SUCCESS - saved https://media.wired.com/photos/5e1e646743940d0008009167/2:1/w_2298,h_1149,c_limit/Science_Cats-84873657.jpg - as ./images\\cats\\fb04f0f391.jpg\n",
      "SUCCESS - saved https://scitechdaily.com/images/Cat-Wearing-COVID-19-Mask.jpg - as ./images\\cats\\965cffd097.jpg\n",
      "ERROR - Could not save https://undark.org/wp-content/uploads/2020/02/GettyImages-1199242002-1-scaled.jpg - cannot identify image file <_io.BytesIO object at 0x00000242210E6E50>\n",
      "SUCCESS - saved https://ichef.bbci.co.uk/news/976/cpsprodpb/12A9B/production/_111434467_gettyimages-1143489763.jpg - as ./images\\cats\\fe23a51b4c.jpg\n",
      "SUCCESS - saved https://static.scientificamerican.com/sciam/cache/file/92E141F8-36E4-4331-BB2EE42AC8674DD3_source.jpg - as ./images\\cats\\730d6a8791.jpg\n",
      "SUCCESS - saved https://www.aljazeera.com/mritems/Images/2020/4/13/ecab8c7af42a439d9043b0ade6e1f05b_18.jpg - as ./images\\cats\\5790bf59d2.jpg\n",
      "SUCCESS - saved https://img.webmd.com/dtmcms/live/webmd/consumer_assets/site_images/article_thumbnails/other/cat_relaxing_on_patio_other/1800x1200_cat_relaxing_on_patio_other.jpg - as ./images\\cats\\8a43684728.jpg\n",
      "SUCCESS - saved https://static01.nyt.com/images/2020/04/22/science/22VIRUS-PETCATS1/22VIRUS-PETCATS1-videoSixteenByNineJumbo1600.jpg - as ./images\\cats\\f926e86c92.jpg\n"
     ]
    }
   ],
   "source": [
    "import os \n",
    "import time\n",
    "import requests\n",
    "import io\n",
    "from PIL import Image\n",
    "import hashlib\n",
    "\n",
    "for ele in search_term:\n",
    "    search_and_download(search_term = ele, driver_path=DRIVER_PATH, target_path=target_path, number_images=number_images)"
   ]
  },
  {
   "cell_type": "code",
   "execution_count": null,
   "metadata": {},
   "outputs": [],
   "source": []
  }
 ],
 "metadata": {
  "kernelspec": {
   "display_name": "Python 3",
   "language": "python",
   "name": "python3"
  },
  "language_info": {
   "codemirror_mode": {
    "name": "ipython",
    "version": 3
   },
   "file_extension": ".py",
   "mimetype": "text/x-python",
   "name": "python",
   "nbconvert_exporter": "python",
   "pygments_lexer": "ipython3",
   "version": "3.8.3"
  }
 },
 "nbformat": 4,
 "nbformat_minor": 4
}
